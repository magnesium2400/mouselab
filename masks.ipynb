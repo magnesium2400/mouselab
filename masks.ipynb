{
 "cells": [
  {
   "cell_type": "markdown",
   "id": "952eb261-9cd9-4f70-80ff-7aae0916c1ec",
   "metadata": {},
   "source": [
    "# Getting masks from `MouseConnectivityCache` (allensdk core)"
   ]
  },
  {
   "cell_type": "markdown",
   "id": "75041746-a5ae-4d3f-9350-2d9c251b20be",
   "metadata": {},
   "source": [
    "This notebook can be used as a way to download volumetric masks for visualisation etc. It is based on the code from [this notebook](https://allensdk.readthedocs.io/en/latest/_static/examples/nb/mouse_connectivity.html). Please see that notebook for a full introduction to all the functionality of the Allen (Mouse Connectivity) SDK. Here, we will focus on getting the data needed for downstream use."
   ]
  },
  {
   "cell_type": "markdown",
   "id": "93630962-576f-46f8-a9cb-340734d3056f",
   "metadata": {},
   "source": [
    "## Prelims"
   ]
  },
  {
   "cell_type": "code",
   "execution_count": 1,
   "id": "2d477c93-c533-41bb-afeb-284b189474d7",
   "metadata": {},
   "outputs": [],
   "source": [
    "from allensdk.core.mouse_connectivity_cache import MouseConnectivityCache\n",
    "import mouselab"
   ]
  },
  {
   "cell_type": "markdown",
   "id": "f5a78ca6-1bca-4060-91c7-953ab88c5dce",
   "metadata": {},
   "source": [
    "## User Inputs"
   ]
  },
  {
   "cell_type": "code",
   "execution_count": 6,
   "id": "e2e1974e-2a4a-4b92-8f4b-a45c0e2ebed1",
   "metadata": {},
   "outputs": [],
   "source": [
    "resolution = 50\n",
    "structure_id = 315"
   ]
  },
  {
   "cell_type": "markdown",
   "id": "fff6469b-38a3-4338-9c88-0196305aaf38",
   "metadata": {},
   "source": [
    "## Example using Allen functions"
   ]
  },
  {
   "cell_type": "code",
   "execution_count": 7,
   "id": "64e48824-7471-4072-9968-0d3ea6bb45af",
   "metadata": {},
   "outputs": [],
   "source": [
    "mcc = MouseConnectivityCache(manifest_file='./manifest.json', resolution=resolution)\n",
    "mask, mask_info = mcc.get_structure_mask(structure_id)"
   ]
  },
  {
   "cell_type": "markdown",
   "id": "a1614f62-1a70-452c-9148-bcf21b6c9c95",
   "metadata": {},
   "source": [
    "## Example using `mouselab` functions"
   ]
  },
  {
   "cell_type": "code",
   "execution_count": 8,
   "id": "32097a74-f4bd-4bc7-963a-20f797cc158a",
   "metadata": {},
   "outputs": [],
   "source": [
    "mouselab.download_structure_mask(structure_id, resolution) # no output if already downloaded"
   ]
  },
  {
   "cell_type": "markdown",
   "id": "3a2a457a-df2a-4cba-9313-04700d410f9f",
   "metadata": {},
   "source": [
    "## Visualise the mask"
   ]
  },
  {
   "cell_type": "code",
   "execution_count": 9,
   "id": "ec29a9fc-0730-4652-8d34-31513aeb6aae",
   "metadata": {},
   "outputs": [
    {
     "data": {
      "application/vnd.jupyter.widget-view+json": {
       "model_id": "0f430f49823040ea87eed1da4c13684c",
       "version_major": 2,
       "version_minor": 0
      },
      "text/plain": [
       "interactive(children=(IntSlider(value=0, description='Slice:', max=263), Output()), _dom_classes=('widget-inte…"
      ]
     },
     "metadata": {},
     "output_type": "display_data"
    },
    {
     "data": {
      "text/plain": [
       "<function __main__.show_slice(z)>"
      ]
     },
     "execution_count": 9,
     "metadata": {},
     "output_type": "execute_result"
    }
   ],
   "source": [
    "import numpy as np\n",
    "import matplotlib.pyplot as plt\n",
    "import ipywidgets as widgets\n",
    "from IPython.display import display\n",
    "\n",
    "# Function to update plot\n",
    "def show_slice(z):\n",
    "    plt.imshow(mask[z], cmap='gray')\n",
    "    plt.title(f\"Slice {z}\")\n",
    "    plt.axis('off')\n",
    "    plt.show()\n",
    "\n",
    "# Create slider\n",
    "slider = widgets.IntSlider(min=0, max=mask.shape[0]-1, step=1, description='Slice:')\n",
    "widgets.interact(show_slice, z=slider)"
   ]
  },
  {
   "cell_type": "code",
   "execution_count": null,
   "id": "5d4b3e27-1281-438a-b759-33cedd7e4346",
   "metadata": {},
   "outputs": [],
   "source": []
  }
 ],
 "metadata": {
  "kernelspec": {
   "display_name": "Python 3 (ipykernel)",
   "language": "python",
   "name": "python3"
  },
  "language_info": {
   "codemirror_mode": {
    "name": "ipython",
    "version": 3
   },
   "file_extension": ".py",
   "mimetype": "text/x-python",
   "name": "python",
   "nbconvert_exporter": "python",
   "pygments_lexer": "ipython3",
   "version": "3.10.18"
  }
 },
 "nbformat": 4,
 "nbformat_minor": 5
}
